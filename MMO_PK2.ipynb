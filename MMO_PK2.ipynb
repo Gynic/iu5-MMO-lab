{
  "nbformat": 4,
  "nbformat_minor": 0,
  "metadata": {
    "colab": {
      "provenance": [],
      "gpuType": "T4",
      "authorship_tag": "ABX9TyOo6YDYN65fFMQl9Np2TSCW",
      "include_colab_link": true
    },
    "kernelspec": {
      "name": "python3",
      "display_name": "Python 3"
    },
    "language_info": {
      "name": "python"
    },
    "accelerator": "GPU"
  },
  "cells": [
    {
      "cell_type": "markdown",
      "metadata": {
        "id": "view-in-github",
        "colab_type": "text"
      },
      "source": [
        "<a href=\"https://colab.research.google.com/github/Gynic/iu5-MMO-lab/blob/main/MMO_PK2.ipynb\" target=\"_parent\"><img src=\"https://colab.research.google.com/assets/colab-badge.svg\" alt=\"Open In Colab\"/></a>"
      ]
    },
    {
      "cell_type": "markdown",
      "source": [
        "ИУ5И-23М Фу Чэньтянь"
      ],
      "metadata": {
        "id": "bCXjxUpb607F"
      }
    },
    {
      "cell_type": "markdown",
      "source": [
        "загрузка набора данных"
      ],
      "metadata": {
        "id": "XQ-UnROS67Ic"
      }
    },
    {
      "cell_type": "code",
      "execution_count": 1,
      "metadata": {
        "id": "57cNJNGS6wza"
      },
      "outputs": [],
      "source": [
        "from sklearn.datasets import fetch_20newsgroups\n",
        "\n",
        "# В следующем примере используется sklearn.datasets.fetch_20newsgroups\n",
        "categories = ['talk.politics.misc', 'rec.sport.hockey', 'sci.med']\n",
        "data = fetch_20newsgroups(subset='train', categories=categories, remove=('headers', 'footers', 'quotes'))\n",
        "\n",
        "X_raw, y = data.data, data.target\n"
      ]
    },
    {
      "cell_type": "markdown",
      "source": [
        "Функция извлечения признаков и оценки моделирования"
      ],
      "metadata": {
        "id": "3mGV0pUu7Ziy"
      }
    },
    {
      "cell_type": "code",
      "source": [
        "from sklearn.feature_extraction.text import CountVectorizer, TfidfVectorizer\n",
        "from sklearn.linear_model import LogisticRegression\n",
        "from sklearn.svm import LinearSVC\n",
        "from sklearn.pipeline import Pipeline\n",
        "from sklearn.model_selection import cross_val_score\n",
        "from sklearn.metrics import classification_report\n",
        "\n",
        "def evaluate_model(vectorizer, classifier, X, y):\n",
        "    pipe = Pipeline([\n",
        "        ('vectorizer', vectorizer),\n",
        "        ('classifier', classifier)\n",
        "    ])\n",
        "    scores = cross_val_score(pipe, X, y, cv=5, scoring='accuracy')\n",
        "    print(f\"{classifier.__class__.__name__} + {vectorizer.__class__.__name__} Accuracy: {scores.mean():.4f}\")\n",
        "    pipe.fit(X, y)\n",
        "    y_pred = pipe.predict(X)\n",
        "    print(classification_report(y, y_pred, target_names=data.target_names))\n"
      ],
      "metadata": {
        "id": "XtWgiV6W7Yd7"
      },
      "execution_count": 2,
      "outputs": []
    },
    {
      "cell_type": "markdown",
      "source": [
        "оценка CoutVectorizer и TfidfVectorizer"
      ],
      "metadata": {
        "id": "qMvXlze17no4"
      }
    },
    {
      "cell_type": "code",
      "source": [
        "print(\"🔹 CountVectorizer ：\")\n",
        "evaluate_model(CountVectorizer(), LogisticRegression(max_iter=1000), X_raw, y)\n",
        "evaluate_model(CountVectorizer(), LinearSVC(), X_raw, y)\n",
        "\n",
        "print(\"🔸 TfidfVectorizer ：\")\n",
        "evaluate_model(TfidfVectorizer(), LogisticRegression(max_iter=1000), X_raw, y)\n",
        "evaluate_model(TfidfVectorizer(), LinearSVC(), X_raw, y)\n"
      ],
      "metadata": {
        "colab": {
          "base_uri": "https://localhost:8080/"
        },
        "id": "UNBC8yPM7kpQ",
        "outputId": "9250641c-4f1e-4876-d9a0-eac6de3cb8a9"
      },
      "execution_count": 3,
      "outputs": [
        {
          "output_type": "stream",
          "name": "stdout",
          "text": [
            "🔹 CountVectorizer ：\n",
            "LogisticRegression + CountVectorizer Accuracy: 0.8595\n",
            "                    precision    recall  f1-score   support\n",
            "\n",
            "  rec.sport.hockey       0.95      1.00      0.98       600\n",
            "           sci.med       1.00      0.97      0.99       594\n",
            "talk.politics.misc       1.00      0.97      0.99       465\n",
            "\n",
            "          accuracy                           0.98      1659\n",
            "         macro avg       0.98      0.98      0.98      1659\n",
            "      weighted avg       0.98      0.98      0.98      1659\n",
            "\n"
          ]
        },
        {
          "output_type": "stream",
          "name": "stderr",
          "text": [
            "/usr/local/lib/python3.11/dist-packages/sklearn/svm/_base.py:1249: ConvergenceWarning: Liblinear failed to converge, increase the number of iterations.\n",
            "  warnings.warn(\n"
          ]
        },
        {
          "output_type": "stream",
          "name": "stdout",
          "text": [
            "LinearSVC + CountVectorizer Accuracy: 0.8336\n",
            "                    precision    recall  f1-score   support\n",
            "\n",
            "  rec.sport.hockey       0.95      1.00      0.98       600\n",
            "           sci.med       1.00      0.97      0.99       594\n",
            "talk.politics.misc       1.00      0.97      0.99       465\n",
            "\n",
            "          accuracy                           0.98      1659\n",
            "         macro avg       0.98      0.98      0.98      1659\n",
            "      weighted avg       0.98      0.98      0.98      1659\n",
            "\n",
            "🔸 TfidfVectorizer ：\n",
            "LogisticRegression + TfidfVectorizer Accuracy: 0.9023\n",
            "                    precision    recall  f1-score   support\n",
            "\n",
            "  rec.sport.hockey       0.95      1.00      0.98       600\n",
            "           sci.med       0.99      0.97      0.98       594\n",
            "talk.politics.misc       1.00      0.97      0.98       465\n",
            "\n",
            "          accuracy                           0.98      1659\n",
            "         macro avg       0.98      0.98      0.98      1659\n",
            "      weighted avg       0.98      0.98      0.98      1659\n",
            "\n",
            "LinearSVC + TfidfVectorizer Accuracy: 0.9186\n",
            "                    precision    recall  f1-score   support\n",
            "\n",
            "  rec.sport.hockey       0.95      1.00      0.98       600\n",
            "           sci.med       1.00      0.97      0.99       594\n",
            "talk.politics.misc       1.00      0.97      0.99       465\n",
            "\n",
            "          accuracy                           0.98      1659\n",
            "         macro avg       0.98      0.98      0.98      1659\n",
            "      weighted avg       0.98      0.98      0.98      1659\n",
            "\n"
          ]
        }
      ]
    },
    {
      "cell_type": "markdown",
      "source": [
        "В этом эксперименте мы выбрали три категории (rec.sport.hockey, sci.med, talk.politics.misc) из набора данных 20 Newsgroups и выполнили классификацию текста на них. Цель состоит в том, чтобы сравнить эффекты классификации различных методов векторизации текста (CountVectorizer и TfidfVectorizer) в сочетании с различными классификаторами (LogisticRegression и LinearSVC), чтобы найти комбинацию с наилучшей производительностью."
      ],
      "metadata": {
        "id": "dM4GNp9C8RX8"
      }
    },
    {
      "cell_type": "markdown",
      "source": [
        "Общая точность:\n",
        "\n",
        "Все четыре модели достигли точности 0,98 на тестовом наборе, что указывает на то, что проблема мультиклассификации относительно линейно разделима.\n",
        "\n",
        "Однако средняя точность перекрестной проверки (точность CV) может лучше отражать обобщающую способность модели.\n",
        "\n",
        "Сравнение методов векторизации:\n",
        "\n",
        "Точность перекрестной проверки TfidfVectorizer в обоих классификаторах (0,9023 и 0,9186) выше, чем у CountVectorizer (0,8595 и 0,8336).\n",
        "\n",
        "Это показывает, что механизм взвешивания частоты слов TF-IDF больше подходит для текущей задачи классификации текста и может лучше различать слова в разных контекстах.\n",
        "\n",
        "Сравнение классификаторов:\n",
        "\n",
        "В CountVectorizer LogisticRegression значительно лучше, чем LinearSVC, который также имеет предупреждение о сходимости и нуждается в корректировке количества итераций.\n",
        "\n",
        "При использовании TfidfVectorizer LinearSVC превосходит LogisticRegression и имеет самую высокую точность перекрестной проверки (0,9186) среди всех комбинаций.\n"
      ],
      "metadata": {
        "id": "NhMQsCxq8gWc"
      }
    },
    {
      "cell_type": "markdown",
      "source": [
        "Лучшая комбинация моделей: TfidfVectorizer + LinearSVC, которая стабильно и хорошо работает как при перекрестной проверке, так и при окончательном тестировании.\n",
        "\n",
        "Результаты сравнения показывают, что TF-IDF имеет больше преимуществ при классификации текста, особенно в сочетании с линейной моделью опорных векторов (SVC)."
      ],
      "metadata": {
        "id": "e08K3UHN8v5o"
      }
    },
    {
      "cell_type": "code",
      "source": [],
      "metadata": {
        "id": "O7Vma4uo8fSO"
      },
      "execution_count": null,
      "outputs": []
    }
  ]
}